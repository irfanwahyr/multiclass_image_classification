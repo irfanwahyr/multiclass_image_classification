{
  "cells": [
    {
      "cell_type": "markdown",
      "metadata": {
        "id": "0d8ysxhSVt9f"
      },
      "source": [
        "# Import Library"
      ]
    },
    {
      "cell_type": "code",
      "execution_count": null,
      "metadata": {
        "id": "iqPM0U0XVts4"
      },
      "outputs": [],
      "source": [
        "import os\n",
        "import zipfile\n",
        "import os\n",
        "import random\n",
        "import shutil\n",
        "import tensorflow as tf\n",
        "from tensorflow.keras.preprocessing.image import ImageDataGenerator\n",
        "import numpy as np\n",
        "from google.colab import files\n",
        "from tensorflow.keras.preprocessing import image\n",
        "import matplotlib.pyplot as plt"
      ]
    },
    {
      "cell_type": "markdown",
      "metadata": {
        "id": "W_iyQTdcSUTR"
      },
      "source": [
        "# Cek versi Tensorflow"
      ]
    },
    {
      "cell_type": "code",
      "execution_count": null,
      "metadata": {
        "colab": {
          "base_uri": "https://localhost:8080/"
        },
        "id": "_KEM183y4Hix",
        "outputId": "bc22e622-5bb5-4222-acda-fd01f7c1b138"
      },
      "outputs": [],
      "source": [
        "import tensorflow as tf\n",
        "print(tf.__version__)"
      ]
    },
    {
      "cell_type": "markdown",
      "metadata": {
        "id": "RdqFtoTVSZFA"
      },
      "source": [
        "# Download dataset"
      ]
    },
    {
      "cell_type": "code",
      "execution_count": null,
      "metadata": {
        "colab": {
          "base_uri": "https://localhost:8080/"
        },
        "id": "uCRr38k54KoY",
        "outputId": "0c5a4cbd-51ee-44c2-96d3-451a981d3341"
      },
      "outputs": [],
      "source": [
        "!wget --no-check-certificate \\\n",
        "  https://github.com/dicodingacademy/assets/releases/download/release/rockpaperscissors.zip"
      ]
    },
    {
      "cell_type": "markdown",
      "metadata": {
        "id": "fb6G3PeGScrN"
      },
      "source": [
        "# Ekstrak file zip"
      ]
    },
    {
      "cell_type": "code",
      "execution_count": null,
      "metadata": {
        "id": "HWLbloXb4M-5"
      },
      "outputs": [],
      "source": [
        "local_zip = 'rockpaperscissors.zip'\n",
        "zip_ref = zipfile.ZipFile(local_zip, 'r')\n",
        "zip_ref.extractall('/tmp/')\n",
        "zip_ref.close()"
      ]
    },
    {
      "cell_type": "markdown",
      "metadata": {
        "id": "kcHWrddPSihR"
      },
      "source": [
        "# Membagi file ke folder 'train' (60%) dan 'val' (40%)"
      ]
    },
    {
      "cell_type": "code",
      "execution_count": null,
      "metadata": {
        "id": "02oOwyql4cPi"
      },
      "outputs": [],
      "source": [
        "base_dir = '/tmp/rockpaperscissors'\n",
        "\n",
        "train_dir = os.path.join(base_dir, 'train')\n",
        "validation_dir = os.path.join(base_dir, 'val')\n",
        "\n",
        "# Membuat subfolder rock, paper, dan scissors di dalam train dan validation\n",
        "for folder in ['rock', 'paper', 'scissors']:\n",
        "    os.makedirs(os.path.join(train_dir, folder))\n",
        "    os.makedirs(os.path.join(validation_dir, folder))\n",
        "\n",
        "# Memindahkan file ke dalam train dan validation\n",
        "for folder in ['rock', 'paper', 'scissors']:\n",
        "    source_folder = os.path.join(base_dir, folder)\n",
        "    files = os.listdir(source_folder)\n",
        "    random.shuffle(files)\n",
        "\n",
        "    # Hitung jumlah file yang akan menjadi validation set (40% dari total)\n",
        "    validation_count = int(0.4 * len(files))\n",
        "\n",
        "    # Hitung jumlah file yang akan menjadi train set (60% dari total)\n",
        "    train_count = len(files) - validation_count\n",
        "\n",
        "    for i in range(validation_count):\n",
        "        source_file = os.path.join(source_folder, files[i])\n",
        "        dest_folder = os.path.join(validation_dir, folder)\n",
        "        shutil.move(source_file, os.path.join(dest_folder, files[i]))\n",
        "\n",
        "    # Memindahkan sisa file ke dalam subfolder train yang sesuai\n",
        "    for i in range(validation_count, len(files)):\n",
        "        source_file = os.path.join(source_folder, files[i])\n",
        "        dest_folder = os.path.join(train_dir, folder)\n",
        "        shutil.move(source_file, os.path.join(dest_folder, files[i]))\n",
        "\n",
        "# Sekarang, direktori validation_dir akan berisi 40% dari jumlah keseluruhan data gabungan dari train dan validation,\n",
        "# dan 60% data akan berada di dalam subfolder train yang sesuai dengan nama subfolder sebelumnya.\n"
      ]
    },
    {
      "cell_type": "markdown",
      "metadata": {
        "id": "G27DFoYnS2mO"
      },
      "source": [
        "# Menghitung jumlah isi pada tiap folder"
      ]
    },
    {
      "cell_type": "code",
      "execution_count": null,
      "metadata": {
        "colab": {
          "base_uri": "https://localhost:8080/"
        },
        "id": "xV7HLCJ31gMP",
        "outputId": "2c2540b8-23b9-486c-a213-caf7bd22a27a"
      },
      "outputs": [],
      "source": [
        "base_dir = '/tmp/rockpaperscissors'\n",
        "\n",
        "train_dir = os.path.join(base_dir, 'train')\n",
        "validation_dir = os.path.join(base_dir, 'val')\n",
        "\n",
        "# Fungsi untuk menghitung jumlah file dalam suatu direktori dan subdirektori\n",
        "def count_files_in_directory(directory):\n",
        "    count = 0\n",
        "    for root, dirs, files in os.walk(directory):\n",
        "        count += len(files)\n",
        "    return count\n",
        "\n",
        "# Menghitung jumlah file dalam train dan validation\n",
        "train_file_count = count_files_in_directory(train_dir)\n",
        "validation_file_count = count_files_in_directory(validation_dir)\n",
        "\n",
        "print(f\"Jumlah file dalam train: {train_file_count}\")\n",
        "print(f\"Jumlah file dalam validation: {validation_file_count}\")\n"
      ]
    },
    {
      "cell_type": "markdown",
      "metadata": {
        "id": "mzb2kH-_S63a"
      },
      "source": [
        "# Augmentasi Gambar dengan ImageDataGenerator()"
      ]
    },
    {
      "cell_type": "code",
      "execution_count": null,
      "metadata": {
        "id": "GV1tdSfh4ww8"
      },
      "outputs": [],
      "source": [
        "train_datagen = ImageDataGenerator(\n",
        "    rescale=1./255,\n",
        "    rotation_range=20,\n",
        "    horizontal_flip=True,\n",
        "    shear_range=0.2,\n",
        "    fill_mode='nearest',\n",
        "    width_shift_range=0.2,  # Pergeseran horizontal\n",
        "    height_shift_range=0.2,  # Pergeseran vertikal\n",
        "    validation_split=0.2  # Menambahkan pembagian data validasi\n",
        ")\n",
        "\n",
        "test_datagen = ImageDataGenerator(rescale=1./255, validation_split = 0.2)"
      ]
    },
    {
      "cell_type": "markdown",
      "metadata": {
        "id": "1upcnztBTNhC"
      },
      "source": [
        "# Menyiapkan data latih dan validasi dari kumpulan data gambar yang di-load dalam memori melalui fungsi flow()"
      ]
    },
    {
      "cell_type": "code",
      "execution_count": null,
      "metadata": {
        "colab": {
          "base_uri": "https://localhost:8080/"
        },
        "id": "BJ4BAi185Ira",
        "outputId": "c74453dc-8252-4556-ab93-435234657cef"
      },
      "outputs": [],
      "source": [
        "train_generator = train_datagen.flow_from_directory(\n",
        "        train_dir,  # direktori data latih\n",
        "        target_size=(150, 150),  # mengubah resolusi seluruh gambar menjadi 150x150 piksel\n",
        "        batch_size=4,\n",
        "        # karena ini merupakan masalah klasifikasi 3 kelas, gunakan class_mode = 'categorical' (multiclass)\n",
        "        class_mode='categorical')\n",
        "\n",
        "validation_generator = test_datagen.flow_from_directory(\n",
        "        validation_dir, # direktori data validasi\n",
        "        target_size=(150, 150), # mengubah resolusi seluruh gambar menjadi 150x150 piksel\n",
        "        batch_size=4,\n",
        "        # karena ini merupakan masalah klasifikasi 3 kelas, gunakan class_mode = 'categorical' (multiclass)\n",
        "        class_mode='categorical')\n"
      ]
    },
    {
      "cell_type": "markdown",
      "metadata": {
        "id": "LKy97JgJTXXw"
      },
      "source": [
        "# Membangun Model CNN"
      ]
    },
    {
      "cell_type": "code",
      "execution_count": null,
      "metadata": {
        "id": "hOhQi1L38a7G"
      },
      "outputs": [],
      "source": [
        "model = tf.keras.models.Sequential([\n",
        "    tf.keras.layers.Conv2D(32, (3,3), activation='relu', input_shape=(150, 150, 3)),\n",
        "    tf.keras.layers.MaxPooling2D(2, 2),\n",
        "    tf.keras.layers.Conv2D(64, (3,3), activation='relu'),\n",
        "    tf.keras.layers.MaxPooling2D(2,2),\n",
        "    tf.keras.layers.Conv2D(128, (3,3), activation='relu'),\n",
        "    tf.keras.layers.MaxPooling2D(2,2),\n",
        "    tf.keras.layers.Conv2D(512, (3,3), activation='relu'),\n",
        "    tf.keras.layers.MaxPooling2D(2,2),\n",
        "    tf.keras.layers.Flatten(),\n",
        "    tf.keras.layers.Dense(512, activation='relu'),\n",
        "    # tf.keras.layers.Dense(128, activation='relu'),  # Lapisan hidden dengan 128 unit\n",
        "    tf.keras.layers.Dense(3, activation='softmax')  # Mengubah unit menjadi 3 dan aktivasi menjadi 'softmax'\n",
        "])"
      ]
    },
    {
      "cell_type": "markdown",
      "metadata": {
        "id": "f8IrXivYTi-y"
      },
      "source": [
        "# melihat summary model"
      ]
    },
    {
      "cell_type": "code",
      "execution_count": null,
      "metadata": {
        "colab": {
          "base_uri": "https://localhost:8080/"
        },
        "id": "vIEe9E1e8p6z",
        "outputId": "c0f2da66-ce4d-4cf7-83b0-2d8ef77f8c84"
      },
      "outputs": [],
      "source": [
        "model.summary()"
      ]
    },
    {
      "cell_type": "markdown",
      "metadata": {
        "id": "JW9D28ZnTn81"
      },
      "source": [
        "# Melakukan Compile Model dan menentukan loss serta optimizer"
      ]
    },
    {
      "cell_type": "code",
      "execution_count": null,
      "metadata": {
        "id": "J6OLFfZi9Hqm"
      },
      "outputs": [],
      "source": [
        "# Compile model dengan 'AdamW' optimizer dan loss function 'categorical_crossentropy'\n",
        "model.compile(loss='categorical_crossentropy',\n",
        "              optimizer=tf.optimizers.AdamW(),  # optimizer diganti dengan 'AdamW'\n",
        "              metrics=['accuracy'])"
      ]
    },
    {
      "cell_type": "markdown",
      "metadata": {
        "id": "jfFVMcrfT0tM"
      },
      "source": [
        "# Training Data"
      ]
    },
    {
      "cell_type": "code",
      "execution_count": null,
      "metadata": {
        "colab": {
          "base_uri": "https://localhost:8080/"
        },
        "id": "8rPFXLvn9Y4G",
        "outputId": "05c09a51-a780-4b3e-828d-be8e7338080b"
      },
      "outputs": [],
      "source": [
        "# latih model dengan model.fit\n",
        "model.fit(\n",
        "      train_generator,\n",
        "      steps_per_epoch=50,  # berapa batch yang akan dieksekusi pada setiap epoch\n",
        "      epochs=30, # tambahkan epochs jika akurasi model belum optimal\n",
        "      validation_data=validation_generator, # menampilkan akurasi pengujian data validasi\n",
        "      validation_steps=25,  # berapa batch yang akan dieksekusi pada setiap epoch\n",
        "      verbose=2)"
      ]
    },
    {
      "cell_type": "markdown",
      "metadata": {
        "id": "YusSvYt-T63m"
      },
      "source": [
        "# Melakukan Uji Model dengan input Gambar"
      ]
    },
    {
      "cell_type": "code",
      "execution_count": null,
      "metadata": {
        "colab": {
          "base_uri": "https://localhost:8080/",
          "height": 514
        },
        "id": "eDQ-nKXHCssp",
        "outputId": "7df5ab26-e35a-4fb0-d7c7-280f051aa482"
      },
      "outputs": [],
      "source": [
        "from google.colab import files\n",
        "\n",
        "# Upload gambar yang ingin diuji\n",
        "uploaded = files.upload()\n",
        "\n",
        "# Daftar kelas\n",
        "class_names = ['rock', 'paper', 'scissors']\n",
        "\n",
        "for fn in uploaded.keys():\n",
        "    # Memuat gambar dan meresize ke ukuran yang sesuai dengan model Anda\n",
        "    path = fn\n",
        "    img = image.load_img(path, target_size=(150, 150))\n",
        "\n",
        "    # Menampilkan gambar yang diuji\n",
        "    plt.imshow(img)\n",
        "    plt.axis('off')\n",
        "    plt.show()\n",
        "\n",
        "    x = image.img_to_array(img)\n",
        "    x = np.expand_dims(x, axis=0)\n",
        "\n",
        "    # Melakukan prediksi dengan model Anda\n",
        "    predictions = model.predict(x)\n",
        "\n",
        "    # Mendapatkan kelas hasil prediksi\n",
        "    predicted_class = class_names[np.argmax(predictions)]\n",
        "\n",
        "    print(f'File: {fn}')\n",
        "    print(f'Prediction: {predicted_class}')\n"
      ]
    }
  ],
  "metadata": {
    "colab": {
      "provenance": []
    },
    "kernelspec": {
      "display_name": "Python 3",
      "name": "python3"
    },
    "language_info": {
      "codemirror_mode": {
        "name": "ipython",
        "version": 3
      },
      "file_extension": ".py",
      "mimetype": "text/x-python",
      "name": "python",
      "nbconvert_exporter": "python",
      "pygments_lexer": "ipython3",
      "version": "3.11.5"
    }
  },
  "nbformat": 4,
  "nbformat_minor": 0
}
